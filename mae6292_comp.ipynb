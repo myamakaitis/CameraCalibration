{
 "cells": [
  {
   "cell_type": "code",
   "execution_count": 1,
   "id": "90efd38d",
   "metadata": {},
   "outputs": [],
   "source": [
    "import numpy as np\n",
    "import pandas as pd\n",
    "import scipy.linalg as linalg\n",
    "\n",
    "def calibrateCamera_Tsai(p, P):\n",
    "    # p : homogeneous coordinates of pixel in the image frame\n",
    "    # P : homogeneous coordinates of points in the world frame\n",
    "    assert p.shape[0] == 3, \"p : homogeneous coordinates of pixel in the image frame of 3 by n\"\n",
    "    assert P.shape[0] == 4, \"P : homogeneous coordinates of points in the world frame\"\n",
    "    assert p.shape[1] == P.shape[1], \"number of columns of p shold match with P\"\n",
    "\n",
    "    n = p.shape[1]\n",
    "    p_uv = p[0:2,:]/p[2,:]\n",
    "\n",
    "    Q = np.empty((0, 12))\n",
    "    for i in range(n):\n",
    "        Qi_0 = np.array([ [1,0, -p_uv[0,i]], [0, 1, -p_uv[1,i]]] )\n",
    "        Qi = np.kron(Qi_0, P[:,i].T)\n",
    "        Q = np.append(Q, Qi, axis=0)\n",
    "\n",
    "    # 1. Find M_tilde using SVD\n",
    "\n",
    "    U, S, VT = linalg.svd(Q)\n",
    "    M_tilde = VT.T[:,-1].reshape(3,4)\n",
    "    # print(M_tilde /M_cv) # M is determined up to scale\n",
    "\n",
    "    # 2. RQ factorization to find K_tilde and R\n",
    "\n",
    "    K_tilde, R = linalg.rq(M_tilde [:,0:3])\n",
    "\n",
    "    # 3. Resolve the ambiguity of RQ factorization\n",
    "    D = np.diag( np.sign(np.diag(K_tilde)) )\n",
    "    K_tilde  = K_tilde@D\n",
    "    R = D@R\n",
    "\n",
    "    # 4. Find T\n",
    "    T = linalg.solve(K_tilde, M_tilde[:,-1]).reshape(3,1)\n",
    "\n",
    "    # 5. Recover scale\n",
    "\n",
    "    s = 1/K_tilde[2,2]\n",
    "    K = s*K_tilde\n",
    "    M = s*M_tilde\n",
    "\n",
    "    # 6. Resolve sign ambiguity\n",
    "    if linalg.det(R) < 0:\n",
    "        R = -R\n",
    "        T = -T\n",
    "        M = -M\n",
    "\n",
    "\n",
    "    return K, R, T, M"
   ]
  },
  {
   "cell_type": "code",
   "execution_count": 2,
   "id": "150858c8",
   "metadata": {},
   "outputs": [],
   "source": [
    "Data = pd.read_csv(\"Marks2.csv\")\n",
    "\n",
    "u, v = Data[\"u\"].values, Data[\"v\"].values\n",
    "X, Y, Z = Data[\"X\"].values, Data[\"Y\"].values, Data[\"Z\"].values"
   ]
  },
  {
   "cell_type": "code",
   "execution_count": null,
   "id": "a8cc5ce4",
   "metadata": {},
   "outputs": [],
   "source": [
    "from matplotlib import cm\n",
    "\n",
    "cmap = cm.get_cmap(\"Dark2\", 51)\n",
    "\n",
    "zmax = Z.max()\n",
    "xmax = X.max()\n",
    "\n",
    "fig, ax = plt.subplots(dpi=200)\n",
    "ax.scatter(u, v, s=1, marker='x', color=cmap(Z/zmax))"
   ]
  },
  {
   "cell_type": "code",
   "execution_count": 4,
   "id": "72b60322",
   "metadata": {},
   "outputs": [],
   "source": [
    "def Pinhole6292(u, v, Xw, Yw, Zw):\n",
    "    uv_homogenous = np.ones((3, len(u)))\n",
    "    xyz_homogenous = np.ones((4, len(Xw)))\n",
    "    \n",
    "    uv_homogenous[0, :] = u\n",
    "    uv_homogenous[1, :] = v\n",
    "    \n",
    "    xyz_homogenous[0, :] = Xw\n",
    "    xyz_homogenous[1, :] = Yw\n",
    "    xyz_homogenous[2, :] = Zw\n",
    "    \n",
    "    return calibrateCamera_Tsai(uv_homogenous, xyz_homogenous)"
   ]
  },
  {
   "cell_type": "code",
   "execution_count": null,
   "id": "2ab65c6a",
   "metadata": {},
   "outputs": [],
   "source": [
    "import numpy as np\n",
    "from scipy.optimize import minimize\n",
    "import pandas as pd\n",
    "\n",
    "File = \"Marks2.csv\"\n",
    "Data = pd.read_csv(File)\n",
    "\n",
    "# Data = Data[(1 < Data[\"Z\"]) & (Data[\"Z\"] < 11)]\n",
    "\n",
    "# Data.sort_values(by=\"u\", axis=0, inplace=True)\n",
    "\n",
    "u, v = Data[\"u\"].values, Data[\"v\"].values\n",
    "u -= u.mean()\n",
    "v -= v.mean()\n",
    "# u, v = Data[\"Xcam2\"].values, Data[\"Ycam2\"].values\n",
    "X, Y, Z = Data[\"X\"].values, Data[\"Y\"].values, Data[\"Z\"].values\n",
    "\n",
    "K, R, T, M = Pinhole6292(u, v, X, Y, Z)\n",
    "print(f\"{K=}\")\n",
    "print(f\"{R=}\")\n",
    "print(f\"{T=}\")\n",
    "print(f\"{M=}\")"
   ]
  },
  {
   "cell_type": "code",
   "execution_count": null,
   "id": "0f3d2835",
   "metadata": {},
   "outputs": [],
   "source": [
    "M - K @ np.concatenate([R, T], axis=1)"
   ]
  },
  {
   "cell_type": "code",
   "execution_count": null,
   "id": "6b398e5b",
   "metadata": {},
   "outputs": [],
   "source": [
    "r0 = M @ np.array([0, 0, 0, 1])\n",
    "r1 = M @ np.array([0, 0, 1, 1])\n",
    "\n",
    "d = r1[:2]/r1[-1] - r0[:2]/r0[-1]\n",
    "\n",
    "# d /= np.linalg.norm(d)\n",
    "d\n"
   ]
  },
  {
   "cell_type": "code",
   "execution_count": null,
   "id": "4cf90906",
   "metadata": {},
   "outputs": [],
   "source": [
    "d.dot(d2)"
   ]
  },
  {
   "cell_type": "code",
   "execution_count": 9,
   "id": "c3667faf",
   "metadata": {},
   "outputs": [],
   "source": [
    "r0 = M @ np.array([0, 0, 0, 1])\n",
    "r1 = M @ np.array([0, 0, 1, 1])\n",
    "\n",
    "d2 = r1[:2]/r1[-1] - r0[:2]/r0[-1]\n",
    "\n",
    "\n",
    "d2 /= np.linalg.norm(d2)\n"
   ]
  },
  {
   "cell_type": "code",
   "execution_count": null,
   "id": "ff719577",
   "metadata": {},
   "outputs": [],
   "source": [
    "Rz = np.array([ 0.58886723, -0.15026282,  0.79413882])\n",
    "\n",
    "np.arccos(0.79413882)"
   ]
  },
  {
   "cell_type": "code",
   "execution_count": null,
   "id": "859affd7",
   "metadata": {},
   "outputs": [],
   "source": [
    "R.T @ R"
   ]
  },
  {
   "cell_type": "code",
   "execution_count": null,
   "id": "34fbbd1a",
   "metadata": {},
   "outputs": [],
   "source": [
    "xyz_homogenous = np.ones((4, len(X)))\n",
    "xyz_homogenous[0, :] = X\n",
    "xyz_homogenous[1, :] = Y\n",
    "xyz_homogenous[2, :] = Z\n",
    "\n",
    "u_rp, v_rp, h = M @ xyz_homogenous\n",
    "U_e, V_e = u_rp/h - u, v_rp/h - v\n",
    "e = (U_e ** 2 + V_e ** 2)\n",
    "\n",
    "rmse = np.sqrt(1 / len(e) * np.sum(e))\n",
    "rmse"
   ]
  },
  {
   "cell_type": "code",
   "execution_count": null,
   "id": "cd563996",
   "metadata": {},
   "outputs": [],
   "source": [
    "import matplotlib.pyplot as plt\n",
    "fig, ax = plt.subplots()\n",
    "ax.scatter(U_e, V_e)"
   ]
  },
  {
   "cell_type": "code",
   "execution_count": 14,
   "id": "0a88b41a",
   "metadata": {},
   "outputs": [],
   "source": [
    "from CamModels import Pinhole\n",
    "\n",
    "PC = Pinhole((0, 0), 1)\n",
    "PC.Fit(u, v, X, Y, Z)"
   ]
  },
  {
   "cell_type": "code",
   "execution_count": null,
   "id": "6f011613",
   "metadata": {},
   "outputs": [],
   "source": [
    "PC.Map(0, 0, 1) - PC.Map(0, 0, 0)"
   ]
  },
  {
   "cell_type": "code",
   "execution_count": null,
   "id": "7fd167d3",
   "metadata": {},
   "outputs": [],
   "source": [
    "PC.R"
   ]
  },
  {
   "cell_type": "code",
   "execution_count": null,
   "id": "505240b3",
   "metadata": {},
   "outputs": [],
   "source": [
    "R"
   ]
  },
  {
   "cell_type": "code",
   "execution_count": null,
   "id": "d4736067",
   "metadata": {},
   "outputs": [],
   "source": [
    "np.array([[PC.f, 0, 0],[0, PC.f, 0],[0, 0, 1]]) @ PC.Rt"
   ]
  },
  {
   "cell_type": "code",
   "execution_count": null,
   "id": "38e0fdc4",
   "metadata": {},
   "outputs": [],
   "source": [
    "PC.RMSE(X, Y, Z, u, v)"
   ]
  },
  {
   "cell_type": "code",
   "execution_count": null,
   "id": "d0674e87",
   "metadata": {},
   "outputs": [],
   "source": []
  }
 ],
 "metadata": {
  "kernelspec": {
   "display_name": "Python 3 (ipykernel)",
   "language": "python",
   "name": "python3"
  },
  "language_info": {
   "codemirror_mode": {
    "name": "ipython",
    "version": 3
   },
   "file_extension": ".py",
   "mimetype": "text/x-python",
   "name": "python",
   "nbconvert_exporter": "python",
   "pygments_lexer": "ipython3",
   "version": "3.10.4"
  }
 },
 "nbformat": 4,
 "nbformat_minor": 5
}
