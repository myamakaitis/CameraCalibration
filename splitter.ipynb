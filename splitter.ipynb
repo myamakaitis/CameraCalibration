{
 "cells": [
  {
   "cell_type": "code",
   "execution_count": 6,
   "metadata": {},
   "outputs": [],
   "source": [
    "from skimage.io import imread, imsave\n",
    "import numpy as np\n",
    "import os"
   ]
  },
  {
   "cell_type": "code",
   "execution_count": 7,
   "metadata": {},
   "outputs": [],
   "source": [
    "IMG_folders = [\"dot_target_water\", \"dot_target_air\"]"
   ]
  },
  {
   "cell_type": "code",
   "execution_count": 8,
   "metadata": {},
   "outputs": [
    {
     "ename": "FileExistsError",
     "evalue": "[WinError 183] Cannot create a file when that file already exists: 'dot_target_air/split'",
     "output_type": "error",
     "traceback": [
      "\u001b[1;31m---------------------------------------------------------------------------\u001b[0m",
      "\u001b[1;31mFileExistsError\u001b[0m                           Traceback (most recent call last)",
      "Cell \u001b[1;32mIn[8], line 4\u001b[0m\n\u001b[0;32m      1\u001b[0m \u001b[38;5;66;03m# img_folder = \"2024-07-24_Phoenix-HD SN 8755_Phoenix HD_005_(exported 2024-07-24 09.41.51)\"\u001b[39;00m\n\u001b[0;32m      3\u001b[0m \u001b[38;5;28;01mfor\u001b[39;00m img_folder \u001b[38;5;129;01min\u001b[39;00m IMG_folders[\u001b[38;5;241m1\u001b[39m:]:\n\u001b[1;32m----> 4\u001b[0m     os\u001b[38;5;241m.\u001b[39mmkdir(\u001b[38;5;124mf\u001b[39m\u001b[38;5;124m\"\u001b[39m\u001b[38;5;132;01m{\u001b[39;00mimg_folder\u001b[38;5;132;01m}\u001b[39;00m\u001b[38;5;124m/split\u001b[39m\u001b[38;5;124m\"\u001b[39m)\n",
      "\u001b[1;31mFileExistsError\u001b[0m: [WinError 183] Cannot create a file when that file already exists: 'dot_target_air/split'"
     ]
    }
   ],
   "source": [
    "# img_folder = \"2024-07-24_Phoenix-HD SN 8755_Phoenix HD_005_(exported 2024-07-24 09.41.51)\"\n",
    "\n",
    "for img_folder in IMG_folders[1:]:\n",
    "    os.mkdir(f\"{img_folder}/split\")"
   ]
  },
  {
   "cell_type": "code",
   "execution_count": 9,
   "metadata": {},
   "outputs": [],
   "source": [
    "MaskLabels = np.arange(0, 19)\n",
    "Masks = dict()\n",
    "ROIs = dict()\n",
    "\n",
    "for label in MaskLabels:\n",
    "\n",
    "    Masks[label] = imread(f\"{IMG_folders[0]}/Masks/mask{label}.png\")\n",
    "\n",
    "    indices_i, indices_j = np.where(Masks[label])\n",
    "\n",
    "    ROIs[label] = (indices_i.min(), indices_i.max()+1, indices_j.min(), indices_j.max()+1)\n",
    "    "
   ]
  },
  {
   "cell_type": "code",
   "execution_count": 10,
   "metadata": {},
   "outputs": [],
   "source": [
    "img_prefix = \"dta_\"\n",
    "img_postfix = \"-1\"\n",
    "img_ext = \".tif\"\n",
    "\n",
    "img_code = np.arange(36.250, 37.651, 0.05)\n",
    "\n",
    "offset = 0\n",
    "\n",
    "for img_folder in IMG_folders[1:]:\n",
    "\n",
    "    for z in img_code:\n",
    "\n",
    "        img0 = imread(f\"{img_folder}/{img_prefix}{z:.3f}{img_postfix}{img_ext}\")\n",
    "        \n",
    "        for label in MaskLabels:\n",
    "\n",
    "            imin, imax, jmin, jmax = ROIs[label]\n",
    "            \n",
    "            img0_split = img0[imin:imax, jmin:jmax]\n",
    "\n",
    "            imsave(f\"{img_folder}/split/{label:02d}_{img_prefix}{z:.3f}{img_ext}\", img0_split, check_contrast=False)\n"
   ]
  },
  {
   "cell_type": "code",
   "execution_count": null,
   "metadata": {},
   "outputs": [],
   "source": []
  }
 ],
 "metadata": {
  "kernelspec": {
   "display_name": "img-env",
   "language": "python",
   "name": "python3"
  },
  "language_info": {
   "codemirror_mode": {
    "name": "ipython",
    "version": 3
   },
   "file_extension": ".py",
   "mimetype": "text/x-python",
   "name": "python",
   "nbconvert_exporter": "python",
   "pygments_lexer": "ipython3",
   "version": "3.11.9"
  }
 },
 "nbformat": 4,
 "nbformat_minor": 2
}
