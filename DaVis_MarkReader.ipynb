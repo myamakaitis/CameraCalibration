{
 "cells": [
  {
   "cell_type": "code",
   "execution_count": 45,
   "id": "0d1a4da1",
   "metadata": {},
   "outputs": [],
   "source": [
    "import xml.etree.ElementTree as et\n",
    "import pandas as pd"
   ]
  },
  {
   "cell_type": "code",
   "execution_count": 46,
   "id": "50898d06",
   "metadata": {},
   "outputs": [],
   "source": [
    "tree = et.parse(\"MarkPositionTableABCF.xml\")\n",
    "root = tree.getroot()"
   ]
  },
  {
   "cell_type": "code",
   "execution_count": 47,
   "id": "ec2d3c0c",
   "metadata": {},
   "outputs": [],
   "source": [
    "for i, label in enumerate((\"A\", \"B\", \"C\", \"F\")):\n",
    "\n",
    "    mark_df = pd.DataFrame(columns=['x', 'y', 'z', 'u', 'v'])\n",
    "\n",
    "    camera = root[i]\n",
    "\n",
    "    l = 0\n",
    "\n",
    "    for view in camera:\n",
    "        for mark in view:\n",
    "            \n",
    "            cam_coords = mark[1].attrib\n",
    "            u, v = [float(cam_coords[direction]) for direction in (\"x\", \"y\")]\n",
    "\n",
    "            world_coords = mark[2].attrib\n",
    "            x, y, z =  [1000*float(world_coords[direction]) for direction in (\"x\", \"y\", \"z\")]\n",
    "\n",
    "            z *= (25/30)\n",
    "\n",
    "            mark_df.loc[l, :] = [x, y, z, u, v]\n",
    "\n",
    "            l += 1\n",
    "\n",
    "    mark_df.to_csv(f\"InvMic_MarkLocs_Cam{label}.csv\")\n"
   ]
  },
  {
   "cell_type": "code",
   "execution_count": null,
   "id": "a99ff684",
   "metadata": {},
   "outputs": [
    {
     "data": {
      "text/plain": [
       "436.3006710119609"
      ]
     },
     "execution_count": 48,
     "metadata": {},
     "output_type": "execute_result"
    }
   ],
   "source": []
  },
  {
   "cell_type": "code",
   "execution_count": null,
   "id": "95d68b74",
   "metadata": {},
   "outputs": [],
   "source": []
  }
 ],
 "metadata": {
  "kernelspec": {
   "display_name": "img-env",
   "language": "python",
   "name": "python3"
  },
  "language_info": {
   "codemirror_mode": {
    "name": "ipython",
    "version": 3
   },
   "file_extension": ".py",
   "mimetype": "text/x-python",
   "name": "python",
   "nbconvert_exporter": "python",
   "pygments_lexer": "ipython3",
   "version": "3.11.9"
  }
 },
 "nbformat": 4,
 "nbformat_minor": 5
}
