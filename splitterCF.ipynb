{
 "cells": [
  {
   "cell_type": "code",
   "execution_count": 3,
   "metadata": {},
   "outputs": [],
   "source": [
    "from skimage.io import imread, imsave\n",
    "import numpy as np\n",
    "import os"
   ]
  },
  {
   "cell_type": "code",
   "execution_count": 4,
   "metadata": {},
   "outputs": [],
   "source": [
    "IMG_folders = [\"InvertedMicroCal\"]"
   ]
  },
  {
   "cell_type": "code",
   "execution_count": 8,
   "metadata": {},
   "outputs": [],
   "source": [
    "# img_folder = \"2024-07-24_Phoenix-HD SN 8755_Phoenix HD_005_(exported 2024-07-24 09.41.51)\"\n",
    "\n",
    "for img_folder in IMG_folders:\n",
    "    os.mkdir(f\"{img_folder}/split\")"
   ]
  },
  {
   "cell_type": "code",
   "execution_count": 9,
   "metadata": {},
   "outputs": [],
   "source": [
    "MaskLabels = (\"A\", \"B\", \"C\", \"F\")\n",
    "Masks = dict()\n",
    "ROIs = dict()\n",
    "\n",
    "for label in MaskLabels:\n",
    "\n",
    "    Masks[label] = imread(f\"{IMG_folders[0]}/mask/Mask{label}.png\")\n",
    "\n",
    "    indices_i, indices_j = np.where(Masks[label])\n",
    "\n",
    "    ROIs[label] = (indices_i.min(), indices_i.max()+1, indices_j.min(), indices_j.max()+1)\n",
    "    "
   ]
  },
  {
   "cell_type": "code",
   "execution_count": 16,
   "metadata": {},
   "outputs": [],
   "source": [
    "img_prefix = \"img\"\n",
    "img_postfix = \"\"\n",
    "img_ext = \".tif\"\n",
    "\n",
    "# img_code = np.arange(36.250, 37.651, 0.05)\n",
    "\n",
    "offset = 1\n",
    "\n",
    "img_code = np.arange(3, 13)\n",
    "\n",
    "for img_folder in IMG_folders:\n",
    "\n",
    "    for z in img_code:\n",
    "\n",
    "        img0 = imread(f\"{img_folder}/{img_prefix}{z:03d}{img_postfix}{img_ext}\")\n",
    "        \n",
    "        for label in MaskLabels:\n",
    "\n",
    "            imin, imax, jmin, jmax = ROIs[label]\n",
    "            \n",
    "            img0_split = img0[imin:imax, jmin:jmax]\n",
    "\n",
    "            imsave(f\"{img_folder}/split/{label}_{img_prefix}{z:03d}{img_ext}\", img0_split, check_contrast=False)\n"
   ]
  },
  {
   "cell_type": "code",
   "execution_count": null,
   "metadata": {},
   "outputs": [],
   "source": []
  }
 ],
 "metadata": {
  "kernelspec": {
   "display_name": "img-env",
   "language": "python",
   "name": "python3"
  },
  "language_info": {
   "codemirror_mode": {
    "name": "ipython",
    "version": 3
   },
   "file_extension": ".py",
   "mimetype": "text/x-python",
   "name": "python",
   "nbconvert_exporter": "python",
   "pygments_lexer": "ipython3",
   "version": "3.11.9"
  }
 },
 "nbformat": 4,
 "nbformat_minor": 2
}
